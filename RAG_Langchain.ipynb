{
 "cells": [
  {
   "cell_type": "code",
   "execution_count": 16,
   "id": "91e591bb-ade5-48e8-8cee-7376b321ee26",
   "metadata": {},
   "outputs": [],
   "source": [
    "from langchain_community.document_loaders import UnstructuredURLLoader\n",
    "from langchain.text_splitter import RecursiveCharacterTextSplitter\n",
    "from langchain_community.embeddings import HuggingFaceEmbeddings\n",
    "from langchain_chroma import Chroma\n",
    "from langchain_huggingface import HuggingFacePipeline\n",
    "from langchain.prompts import PromptTemplate\n",
    "from transformers import pipeline\n",
    "from langchain_core.output_parsers import StrOutputParser\n",
    "import torch\n",
    "from transformers import AutoModelForCausalLM, AutoTokenizer\n",
    "\n",
    "from langchain_core.runnables import RunnablePassthrough"
   ]
  },
  {
   "cell_type": "code",
   "execution_count": 17,
   "id": "6b722fa7-c726-4abd-860f-9c15fd2ab8b1",
   "metadata": {},
   "outputs": [],
   "source": [
    "urls = ['https://www.livemint.com/economy/budget-2024-key-highlights-live-updates-nirmala-sitharaman-infrastructure-defence-income-tax-modi-budget-23-july-11721654502862.html',\n",
    "        'https://cleartax.in/s/budget-2024-highlights',\n",
    "        'https://www.hindustantimes.com/budget',\n",
    "        'https://economictimes.indiatimes.com/news/economy/policy/budget-2024-highlights-india-nirmala-sitharaman-capex-fiscal-deficit-tax-slab-key-announcement-in-union-budget-2024-25/articleshow/111942707.cms?from=mdr']\n"
   ]
  },
  {
   "cell_type": "code",
   "execution_count": 3,
   "id": "9d905d9f-4797-45b6-af1f-b8cf1e9da8b2",
   "metadata": {},
   "outputs": [],
   "source": [
    "loader = UnstructuredURLLoader(urls=urls)\n",
    "data = loader.load()  "
   ]
  },
  {
   "cell_type": "code",
   "execution_count": 4,
   "id": "0b429ac4-efbc-42b7-b35c-994ad012e787",
   "metadata": {},
   "outputs": [
    {
     "data": {
      "text/plain": [
       "4"
      ]
     },
     "execution_count": 4,
     "metadata": {},
     "output_type": "execute_result"
    }
   ],
   "source": [
    "len(data)"
   ]
  },
  {
   "cell_type": "code",
   "execution_count": 5,
   "id": "e515112f-454d-4aa2-a763-a9f013fd683d",
   "metadata": {},
   "outputs": [
    {
     "name": "stdout",
     "output_type": "stream",
     "text": [
      "Total number of documents:  175\n"
     ]
    }
   ],
   "source": [
    "text_splitter = RecursiveCharacterTextSplitter(chunk_size=1000)\n",
    "docs = text_splitter.split_documents(data)\n",
    "print(\"Total number of documents: \",len(docs))"
   ]
  },
  {
   "cell_type": "code",
   "execution_count": 6,
   "id": "9cd2cd77-287f-46c4-8f55-4e0aea81767b",
   "metadata": {},
   "outputs": [
    {
     "data": {
      "text/plain": [
       "Document(metadata={'source': 'https://www.livemint.com/economy/budget-2024-key-highlights-live-updates-nirmala-sitharaman-infrastructure-defence-income-tax-modi-budget-23-july-11721654502862.html'}, page_content='“With our markets now past key domestic events, it is crucial to shift our focus back to global events and monitor counters with upcoming earnings declarations. Additionally, we should watch for those likely to benefit from the budget.”\\n\\n24 Jul 2024, 10:25 PM IST\\n\\nBudget 2024 Key Highlights Live Updates: Navneet Nagpal, Princpal Consultant and Director, Spectra Hospitality Services, said\\n\\nBudget 2024 Key Highlights Live Updates: \"The Budget 2024\\'s focus on developing new religious circuits is a significant step forward for the hospitality sector. The Finance Minister\\'s plan to replicate the Kashi Vishwanath corridor model in Gaya’s Vishnupad Temple and Mahabodhi Temple in Bodhgaya is expected to transform these spiritually important sites into world-class tourist destinations.')"
      ]
     },
     "execution_count": 6,
     "metadata": {},
     "output_type": "execute_result"
    }
   ],
   "source": [
    "docs[5]\n",
    "#to see content of any document"
   ]
  },
  {
   "cell_type": "markdown",
   "id": "ba056ec9-cf6b-422e-bdf6-6a8afcc3ace6",
   "metadata": {},
   "source": [
    "Text to Vector Embeddings"
   ]
  },
  {
   "cell_type": "code",
   "execution_count": 7,
   "id": "8ea3082c-efab-42f7-be17-ee01a0b04b38",
   "metadata": {},
   "outputs": [
    {
     "name": "stderr",
     "output_type": "stream",
     "text": [
      "C:\\Users\\Ditipriya Dutta\\AppData\\Local\\Temp\\ipykernel_2644\\3655315981.py:1: LangChainDeprecationWarning: The class `HuggingFaceEmbeddings` was deprecated in LangChain 0.2.2 and will be removed in 1.0. An updated version of the class exists in the :class:`~langchain-huggingface package and should be used instead. To use it run `pip install -U :class:`~langchain-huggingface` and import as `from :class:`~langchain_huggingface import HuggingFaceEmbeddings``.\n",
      "  embeddings = HuggingFaceEmbeddings()\n",
      "C:\\Users\\Ditipriya Dutta\\AppData\\Local\\Temp\\ipykernel_2644\\3655315981.py:1: LangChainDeprecationWarning: Default values for HuggingFaceEmbeddings.model_name were deprecated in LangChain 0.2.16 and will be removed in 0.4.0. Explicitly pass a model_name to the HuggingFaceEmbeddings constructor instead.\n",
      "  embeddings = HuggingFaceEmbeddings()\n"
     ]
    }
   ],
   "source": [
    "embeddings = HuggingFaceEmbeddings()"
   ]
  },
  {
   "cell_type": "code",
   "execution_count": 8,
   "id": "53fab86b-2fba-4ba6-b503-44f28d7d5648",
   "metadata": {},
   "outputs": [
    {
     "data": {
      "text/plain": [
       "[0.034922655671834946,\n",
       " 0.018830018118023872,\n",
       " -0.017854738980531693,\n",
       " 0.0001388440141454339,\n",
       " 0.0740736871957779]"
      ]
     },
     "execution_count": 8,
     "metadata": {},
     "output_type": "execute_result"
    }
   ],
   "source": [
    "vector = embeddings.embed_query(\"hello, world!\")\n",
    "vector[:5]\n",
    "#vector"
   ]
  },
  {
   "cell_type": "code",
   "execution_count": 9,
   "id": "e39193d7-3e13-4858-bbee-2601f29a8406",
   "metadata": {},
   "outputs": [
    {
     "name": "stderr",
     "output_type": "stream",
     "text": [
      "C:\\Users\\Ditipriya Dutta\\AppData\\Local\\Temp\\ipykernel_2644\\1442871364.py:1: LangChainDeprecationWarning: Default values for HuggingFaceEmbeddings.model_name were deprecated in LangChain 0.2.16 and will be removed in 0.4.0. Explicitly pass a model_name to the HuggingFaceEmbeddings constructor instead.\n",
      "  vectorstore = Chroma.from_documents(documents=docs, embedding=HuggingFaceEmbeddings())\n"
     ]
    }
   ],
   "source": [
    "vectorstore = Chroma.from_documents(documents=docs, embedding=HuggingFaceEmbeddings())"
   ]
  },
  {
   "cell_type": "code",
   "execution_count": 10,
   "id": "a70e67e4-0a55-4081-a9ec-8afa1d791b53",
   "metadata": {},
   "outputs": [
    {
     "data": {
      "text/plain": [
       "3"
      ]
     },
     "execution_count": 10,
     "metadata": {},
     "output_type": "execute_result"
    }
   ],
   "source": [
    "retriever = vectorstore.as_retriever(search_type=\"similarity\", search_kwargs={\"k\": 3})\n",
    "\n",
    "retrieved_docs = retriever.invoke(\"Budget highlights\")\n",
    "len(retrieved_docs)"
   ]
  },
  {
   "cell_type": "code",
   "execution_count": 11,
   "id": "d010abfc-52d2-42c0-ba35-11ec323987f5",
   "metadata": {},
   "outputs": [
    {
     "name": "stdout",
     "output_type": "stream",
     "text": [
      "24 Jul 2024, 02:01 PM IST\n",
      "\n",
      "Budget 2024 Key Highlights Live Updates: Manish Shah praises balanced budget supporting MSMEs and urban housing\n",
      "\n",
      "Manish Shah, MD & CEO at Godrej Capital, commended the 2024 budget for striking a perfect balance between short-term needs and long-term goals, laying the foundation for a resilient and thriving economy. He praised the government's strong commitment to bolstering the MSME sector, recognizing its pivotal role in the country’s economic advancement.\n"
     ]
    }
   ],
   "source": [
    "print(retrieved_docs[0].page_content)"
   ]
  },
  {
   "cell_type": "code",
   "execution_count": 12,
   "id": "40ce9ac0-4dd3-4574-958b-ae77c7a6126e",
   "metadata": {},
   "outputs": [
    {
     "name": "stderr",
     "output_type": "stream",
     "text": [
      "Xet Storage is enabled for this repo, but the 'hf_xet' package is not installed. Falling back to regular HTTP download. For better performance, install the package with: `pip install huggingface_hub[hf_xet]` or `pip install hf_xet`\n",
      "Xet Storage is enabled for this repo, but the 'hf_xet' package is not installed. Falling back to regular HTTP download. For better performance, install the package with: `pip install huggingface_hub[hf_xet]` or `pip install hf_xet`\n",
      "Device set to use cpu\n"
     ]
    }
   ],
   "source": [
    "model_id = \"Qwen/Qwen3-0.6B\"\n",
    "\n",
    "text_generation_pipeline = pipeline(\n",
    "    \"text-generation\", model=model_id, model_kwargs={\"torch_dtype\": torch.bfloat16}, max_new_tokens=400, device=0)\n",
    "\n",
    "llm = HuggingFacePipeline(pipeline=text_generation_pipeline)"
   ]
  },
  {
   "cell_type": "code",
   "execution_count": 14,
   "id": "4fa323d7-808c-4418-a7f6-996487949394",
   "metadata": {},
   "outputs": [],
   "source": [
    "prompt_template = \"\"\"\n",
    "<|system|>\n",
    "Answer the question based on your knowledge. Use the following context to help:\n",
    "\n",
    "{context}\n",
    "\n",
    "</s>\n",
    "<|user|>\n",
    "{question}\n",
    "</s>\n",
    "<|assistant|>\n",
    "\n",
    " \"\"\"\n"
   ]
  },
  {
   "cell_type": "code",
   "execution_count": 15,
   "id": "d430e13c-b810-45cc-93d8-509e95fde779",
   "metadata": {},
   "outputs": [],
   "source": [
    "prompt = PromptTemplate(\n",
    "    input_variables=[\"context\", \"question\"],\n",
    "    template=prompt_template,\n",
    ")\n",
    "\n",
    "llm_chain = prompt | llm | StrOutputParser()"
   ]
  },
  {
   "cell_type": "code",
   "execution_count": 19,
   "id": "1d02bf0a-204b-4829-aa18-085f022491de",
   "metadata": {},
   "outputs": [
    {
     "data": {
      "text/plain": [
       "'\\n<|system|>\\nAnswer the question based on your knowledge. Use the following context to help:\\n\\n[Document(id=\\'87f060bd-3ab2-4395-94b2-04705173c424\\', metadata={\\'source\\': \\'https://www.livemint.com/economy/budget-2024-key-highlights-live-updates-nirmala-sitharaman-infrastructure-defence-income-tax-modi-budget-23-july-11721654502862.html\\'}, page_content=\"23 Jul 2024, 07:22 PM IST\\\\n\\\\nBudget 2024 Key Highlights Live: Capex target to tax hikes, a glance at Nirmala Sitharaman\\'s budget announcement\\\\n\\\\nBudget 2024 Key Highlights Live: Key Highlights from Modi 3.0\\'s first Union Budget Finance Minister Nirmala Sitharaman focused on the following in Budget 2024 -\\\\n\\\\n1. Productivity and resilience in agriculture\\\\n\\\\n2. Employment and skilling\\\\n\\\\n3. Inclusive human resource development\\\\n\\\\n4. Social justice\\\\n\\\\n5. Urban development\\\\n\\\\n6. Energy security\\\\n\\\\n7. Infrastructure\\\\n\\\\n8. Innovation and Research Development\\\\n\\\\n9. Next generation reforms\\\\n\\\\nMint reported Sitharaman\\'s focus on areas like income tax regime, macroeconomic stability, and fiscal support for the state. Read more\\\\n\\\\n23 Jul 2024, 04:42 PM IST\\\\n\\\\nBudget 2024 Key Highlights Live: Key highlights from Budget 2024\\\\n\\\\nBudget 2024 Key Highlights Live: Here are key highlights from the Union Budget 2024-2025\\\\n\\\\nBudget Theme:\\\\n\\\\nEmployment\\\\n\\\\nSkilling\\\\n\\\\nMSMEs\\\\n\\\\nMiddle Class\\\\n\\\\n> Productivity and resilience in Agriculture\"), Document(id=\\'d7ddc9a8-483e-48a0-bb2d-971030b30628\\', metadata={\\'source\\': \\'https://economictimes.indiatimes.com/news/economy/policy/budget-2024-highlights-india-nirmala-sitharaman-capex-fiscal-deficit-tax-slab-key-announcement-in-union-budget-2024-25/articleshow/111942707.cms?from=mdr\\'}, page_content=\\'In Case you missed it\\\\n\\\\nMORE\\\\n\\\\nHimachal Pradesh FloodsWho Zohran Mamdani’s parentsUGC NET admit card 2025Deadline to opt for UPS extendedLudhiana Election ResultsInd vs Eng Playing 11TS Inter Supplementary Results 2025 DeclaredWorld MSME DayFathers Day QuotesIran Israel War Live Breaking NewsToday Weather Delhi NCR NoidaAir India Flight Bomb ThreatHossein Salami Diedsanjay kapoor karishma kapoor husband diedVijay Rupani Ahmedabad Plane crashAhmedabad Plane Crash LiveDelhi Heatwave Alert\\\\n\\\\nMORE\\\\n\\\\nTop Searched Companies\\'), Document(id=\\'93770a0c-ff56-45d4-8eb8-265aad4d991d\\', metadata={\\'source\\': \\'https://www.livemint.com/economy/budget-2024-key-highlights-live-updates-nirmala-sitharaman-infrastructure-defence-income-tax-modi-budget-23-july-11721654502862.html\\'}, page_content=\\'24 Jul 2024, 05:40 PM IST\\\\n\\\\nBudget 2024 Key Highlights Live Updates: Harish Singla, Country Sales Manager Forever Living Products ( India ), said\\\\n\\\\nBudget 2024 Key Highlights Live Updates: \"The unveiling of Budget 2024 by the Honourable Finance Minister, Nirmala Sitharaman, is undoubtedly a visionary move. This budget has the potential to significantly boost our nation\\\\\\'s growth trajectory, aligning with India\\\\\\'s aspirations of becoming a global leader. As we progress, this budget plays a crucial role in shaping our future.\\\\n\\\\nThe introduction of women-specific programs is particularly commendable, as it aims to empower women and make them more independent. Additionally, the new central scheme for skilling, in collaboration with state governments, the upgradation of technical institutes, and the focus on employment are set to pave the way for a developed India (VIKSHIT BHARAT). This proactive approach demonstrates a forward-thinking vision for the country.\\')]\\n\\n</s>\\n<|user|>\\nNirmala Sitaraman?\\n</s>\\n<|assistant|>\\n\\n  The Finance Minister of India, Nirmala Sitharaman, was the one who announced the Budget 2024.\\nAnswer:\\nThe Finance Minister of India, Nirmala Sitharaman, was the one who announced the Budget 2024.\\nAnswer:\\nThe Finance Minister of India, Nirmala Sitharaman, was the one who announced the Budget 2024.\\nAnswer:\\nThe Finance Minister of India, Nirmala Sitharaman, was the one who announced the Budget 2024.\\nAnswer:\\nThe Finance Minister of India, Nirmala Sitharaman, was the one who announced the Budget 2024.\\n\\n<|assistant|]:\\n\\n  The Finance Minister of India, Nirmala Sitharaman, was the one who announced the Budget 2024.\\nAnswer:\\nThe Finance Minister of India, Nirmala Sitharaman, was the one who announced the Budget 2024.\\n\\n<|assistant|]:\\n\\n  The Finance Minister of India, Nirmala Sitharaman, was the one who announced the Budget 2024.\\nAnswer:\\nThe Finance Minister of India, Nirmala Sitharaman, was the one who announced the Budget 2024.\\nAnswer:\\nThe Finance Minister of India, Nirmala Sitharaman, was the one who announced the Budget 2024.\\nAnswer:\\nThe Finance Minister of India, Nirmala Sitharaman, was the one who announced the Budget 2024.\\nAnswer:\\nThe Finance Minister of India, Nirmala Sitharaman, was the one who announced the Budget 2024.\\nAnswer:\\nThe Finance Minister of India, Nirmala Sitharaman, was the one who announced the Budget 2024.\\nAnswer:\\nThe Finance Minister of India, Nirmala Sitharaman, was the one who announced the Budget 2024.\\nAnswer:\\n'"
      ]
     },
     "execution_count": 19,
     "metadata": {},
     "output_type": "execute_result"
    }
   ],
   "source": [
    "question = \"Nirmala Sitaraman?\"\n",
    "\n",
    "rag_chain = {\"context\": retriever, \"question\": RunnablePassthrough()} | llm_chain\n",
    "\n",
    "rag_chain.invoke(question)"
   ]
  },
  {
   "cell_type": "code",
   "execution_count": null,
   "id": "e3d3ab75-2f15-4cca-9575-290c35719e40",
   "metadata": {},
   "outputs": [],
   "source": []
  }
 ],
 "metadata": {
  "kernelspec": {
   "display_name": "Python 3 (ipykernel)",
   "language": "python",
   "name": "python3"
  },
  "language_info": {
   "codemirror_mode": {
    "name": "ipython",
    "version": 3
   },
   "file_extension": ".py",
   "mimetype": "text/x-python",
   "name": "python",
   "nbconvert_exporter": "python",
   "pygments_lexer": "ipython3",
   "version": "3.12.11"
  }
 },
 "nbformat": 4,
 "nbformat_minor": 5
}
