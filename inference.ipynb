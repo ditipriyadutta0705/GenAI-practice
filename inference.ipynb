{
 "cells": [
  {
   "cell_type": "code",
   "execution_count": 1,
   "id": "4b9f26fc-a83e-4340-95c1-e5cce1a4e12d",
   "metadata": {},
   "outputs": [],
   "source": [
    "from transformers import AutoTokenizer, AutoModelForCausalLM\n",
    "import torch\n",
    "import pandas as pd"
   ]
  },
  {
   "cell_type": "code",
   "execution_count": 3,
   "id": "d82d9239-e0c8-4d11-b966-d685f484cfc1",
   "metadata": {},
   "outputs": [],
   "source": [
    "#model_id = \"Qwen/Qwen2-0.5B\"\n",
    "#model_id = \"Qwen/Qwen2-0.5B-Instruct\"\n",
    "#model_id = \"microsoft/Phi-3.5-mini-instruct\"\n",
    "#model_id = \"Qwen/Qwen2.5-Coder-7B-Instruct\"\n",
    "model_id = \"Qwen/Qwen2.5-Coder-3B-Instruct\""
   ]
  },
  {
   "cell_type": "code",
   "execution_count": 4,
   "id": "2cd9e776-f9c2-4657-8d16-a6b3d7fcb03f",
   "metadata": {},
   "outputs": [
    {
     "data": {
      "application/vnd.jupyter.widget-view+json": {
       "model_id": "bb603381acf844cd81eb384fc39c63da",
       "version_major": 2,
       "version_minor": 0
      },
      "text/plain": [
       "tokenizer_config.json:   0%|          | 0.00/7.30k [00:00<?, ?B/s]"
      ]
     },
     "metadata": {},
     "output_type": "display_data"
    },
    {
     "data": {
      "application/vnd.jupyter.widget-view+json": {
       "model_id": "9faa1d64a10e409b955a2eac92913871",
       "version_major": 2,
       "version_minor": 0
      },
      "text/plain": [
       "vocab.json:   0%|          | 0.00/2.78M [00:00<?, ?B/s]"
      ]
     },
     "metadata": {},
     "output_type": "display_data"
    },
    {
     "data": {
      "application/vnd.jupyter.widget-view+json": {
       "model_id": "edae594688364c739d85e9be58e35fa6",
       "version_major": 2,
       "version_minor": 0
      },
      "text/plain": [
       "merges.txt:   0%|          | 0.00/1.67M [00:00<?, ?B/s]"
      ]
     },
     "metadata": {},
     "output_type": "display_data"
    },
    {
     "data": {
      "application/vnd.jupyter.widget-view+json": {
       "model_id": "de23e2a3893a4abe9e4bbf0a2fc03b2f",
       "version_major": 2,
       "version_minor": 0
      },
      "text/plain": [
       "tokenizer.json:   0%|          | 0.00/7.03M [00:00<?, ?B/s]"
      ]
     },
     "metadata": {},
     "output_type": "display_data"
    }
   ],
   "source": [
    "tokenizer = AutoTokenizer.from_pretrained(model_id,\n",
    "                                         cache_dir = \"model_weights\")"
   ]
  },
  {
   "cell_type": "code",
   "execution_count": 7,
   "id": "5dce5cb2-4169-4fb1-8cc0-b73c7c9ab732",
   "metadata": {},
   "outputs": [
    {
     "data": {
      "application/vnd.jupyter.widget-view+json": {
       "model_id": "06fbbdcca36a485fbaaeea791276b7dd",
       "version_major": 2,
       "version_minor": 0
      },
      "text/plain": [
       "Downloading shards:   0%|          | 0/2 [00:00<?, ?it/s]"
      ]
     },
     "metadata": {},
     "output_type": "display_data"
    },
    {
     "data": {
      "application/vnd.jupyter.widget-view+json": {
       "model_id": "6139ca5c29a24bdf89c8d60852736669",
       "version_major": 2,
       "version_minor": 0
      },
      "text/plain": [
       "model-00001-of-00002.safetensors:  15%|#4        | 724M/4.96G [00:00<?, ?B/s]"
      ]
     },
     "metadata": {},
     "output_type": "display_data"
    },
    {
     "data": {
      "application/vnd.jupyter.widget-view+json": {
       "model_id": "4ef8bae0de664084ac92849d8a4b9742",
       "version_major": 2,
       "version_minor": 0
      },
      "text/plain": [
       "model-00002-of-00002.safetensors:   0%|          | 0.00/1.21G [00:00<?, ?B/s]"
      ]
     },
     "metadata": {},
     "output_type": "display_data"
    },
    {
     "data": {
      "application/vnd.jupyter.widget-view+json": {
       "model_id": "f9f81cc9cd03429caada6108fa41d475",
       "version_major": 2,
       "version_minor": 0
      },
      "text/plain": [
       "Loading checkpoint shards:   0%|          | 0/2 [00:00<?, ?it/s]"
      ]
     },
     "metadata": {},
     "output_type": "display_data"
    },
    {
     "data": {
      "application/vnd.jupyter.widget-view+json": {
       "model_id": "1370509fe5484617a9ac03da8d4fb3d7",
       "version_major": 2,
       "version_minor": 0
      },
      "text/plain": [
       "generation_config.json:   0%|          | 0.00/243 [00:00<?, ?B/s]"
      ]
     },
     "metadata": {},
     "output_type": "display_data"
    }
   ],
   "source": [
    "model = AutoModelForCausalLM.from_pretrained(model_id,\n",
    "                                             cache_dir = \"model_weights\",\n",
    "                                             torch_dtype=\"auto\",\n",
    "                                            device_map=\"cuda:0\")"
   ]
  },
  {
   "cell_type": "code",
   "execution_count": 8,
   "id": "26a7f61f-bcaf-4223-831c-243a1344f237",
   "metadata": {},
   "outputs": [
    {
     "data": {
      "text/html": [
       "<div>\n",
       "<style scoped>\n",
       "    .dataframe tbody tr th:only-of-type {\n",
       "        vertical-align: middle;\n",
       "    }\n",
       "\n",
       "    .dataframe tbody tr th {\n",
       "        vertical-align: top;\n",
       "    }\n",
       "\n",
       "    .dataframe thead th {\n",
       "        text-align: right;\n",
       "    }\n",
       "</style>\n",
       "<table border=\"1\" class=\"dataframe\">\n",
       "  <thead>\n",
       "    <tr style=\"text-align: right;\">\n",
       "      <th></th>\n",
       "      <th>CustomerID</th>\n",
       "      <th>Gender</th>\n",
       "      <th>Age</th>\n",
       "      <th>AnnualIncome (k$)</th>\n",
       "      <th>SpendingScore</th>\n",
       "      <th>MembershipLevel</th>\n",
       "    </tr>\n",
       "  </thead>\n",
       "  <tbody>\n",
       "    <tr>\n",
       "      <th>0</th>\n",
       "      <td>C001</td>\n",
       "      <td>Male</td>\n",
       "      <td>56</td>\n",
       "      <td>101</td>\n",
       "      <td>26</td>\n",
       "      <td>Bronze</td>\n",
       "    </tr>\n",
       "    <tr>\n",
       "      <th>1</th>\n",
       "      <td>C002</td>\n",
       "      <td>Male</td>\n",
       "      <td>46</td>\n",
       "      <td>73</td>\n",
       "      <td>63</td>\n",
       "      <td>Silver</td>\n",
       "    </tr>\n",
       "    <tr>\n",
       "      <th>2</th>\n",
       "      <td>C003</td>\n",
       "      <td>Female</td>\n",
       "      <td>32</td>\n",
       "      <td>87</td>\n",
       "      <td>89</td>\n",
       "      <td>Bronze</td>\n",
       "    </tr>\n",
       "    <tr>\n",
       "      <th>3</th>\n",
       "      <td>C004</td>\n",
       "      <td>Male</td>\n",
       "      <td>60</td>\n",
       "      <td>52</td>\n",
       "      <td>86</td>\n",
       "      <td>Gold</td>\n",
       "    </tr>\n",
       "    <tr>\n",
       "      <th>4</th>\n",
       "      <td>C005</td>\n",
       "      <td>Male</td>\n",
       "      <td>25</td>\n",
       "      <td>40</td>\n",
       "      <td>59</td>\n",
       "      <td>Silver</td>\n",
       "    </tr>\n",
       "  </tbody>\n",
       "</table>\n",
       "</div>"
      ],
      "text/plain": [
       "  CustomerID  Gender  Age  AnnualIncome (k$)  SpendingScore MembershipLevel\n",
       "0       C001    Male   56                101             26          Bronze\n",
       "1       C002    Male   46                 73             63          Silver\n",
       "2       C003  Female   32                 87             89          Bronze\n",
       "3       C004    Male   60                 52             86            Gold\n",
       "4       C005    Male   25                 40             59          Silver"
      ]
     },
     "execution_count": 8,
     "metadata": {},
     "output_type": "execute_result"
    }
   ],
   "source": [
    "df = pd.read_csv(\"customer_data_for_graphs.csv\")\n",
    "df.head()"
   ]
  },
  {
   "cell_type": "code",
   "execution_count": 9,
   "id": "9a1b0655-510a-461b-9feb-ace08e78a0a6",
   "metadata": {},
   "outputs": [],
   "source": [
    "column_list = df.columns.tolist()\n",
    "data_string = \"\"\n",
    "\n",
    "for col in column_list:\n",
    "    lis = []\n",
    "    for i in range(0, len(df)):\n",
    "        value = str(df.iloc[i][col])\n",
    "        lis.append(value)\n",
    "    result_string = col + \"\\t\" + \":\" + \"\\t\" + \",\".join(lis) + \"\\n\"\n",
    "    data_string = data_string + result_string"
   ]
  },
  {
   "cell_type": "code",
   "execution_count": 10,
   "id": "ec0a2c72-4309-493b-82b0-ddb3d621272d",
   "metadata": {},
   "outputs": [],
   "source": [
    "role = '''You are a Data Analyst with experience in uncovering statistical insights and making lovely visualizations. \n",
    "Your job is to follow the instructions given below and create a graph as mentioned by the user while also returning statistical summary of the said data points.'''"
   ]
  },
  {
   "cell_type": "code",
   "execution_count": 11,
   "id": "7ff0de8a-7a5b-4577-baf6-877ca5fb7086",
   "metadata": {},
   "outputs": [],
   "source": [
    "persona = '''You are softspoken and speak very professionaly to the user. Do not under any circumstance reply to any kind of malicious queries'''"
   ]
  },
  {
   "cell_type": "code",
   "execution_count": 63,
   "id": "838fd13e-ca93-4536-98e1-3dbc79beac12",
   "metadata": {},
   "outputs": [],
   "source": [
    "instructions = '''#Instructions\n",
    "\n",
    "1. Identify the columns which are present in the user query for which we need to make the graphs.\n",
    "2. Analyze the data points of those columns only which you have identified earlier. These data points will be present under the \"DATA\" section.\n",
    "3. Determine which graph will be most appropriate for the selected columns.\n",
    "4. If the user chooses more than 2 columns, determine multiple graphs based on the combination of the columns.\n",
    "5. Return the syntax to create the graphs using matplotlib, numpy and pandas library in Python. No other library requirement should be there in the syntax.\n",
    "6. Return this syntax enclosed within <graphCode></graphCode>.\n",
    "7. Analyze the data chosen by you and return any statistical insights within <summary></summary> tags.\n",
    "8. The original data is within a dataframe \"df\". So the graph creation syntax should take that into account.\n",
    "9. Analyze the example given below to understand how to generate the answers.\n",
    "\n",
    "#Example\n",
    "Question: Generate me a graph using \"Age\" and \"Gender\"\n",
    "\n",
    "Answer: \n",
    "\n",
    "<graphCode>\n",
    "import pandas as pd\n",
    "import numpy as np\n",
    "import matplotlib.pyplot as plt\n",
    "\n",
    "# Separate Age data by Gender\n",
    "male_ages = df[df['Gender'] == 'Male']['Age']\n",
    "female_ages = df[df['Gender'] == 'Female']['Age']\n",
    "\n",
    "# Prepare data for boxplot\n",
    "data = [male_ages, female_ages]\n",
    "\n",
    "# Plotting\n",
    "plt.figure(figsize=(8, 6))\n",
    "plt.boxplot(data, labels=['Male', 'Female'])\n",
    "plt.title('Age Distribution by Gender')\n",
    "plt.xlabel('Gender')\n",
    "plt.ylabel('Age')\n",
    "plt.grid(True)\n",
    "plt.show()\n",
    "</graphCode>\n",
    "\n",
    "<summary>\n",
    "The dataset contains 300 entries, evenly spread across two gender categories, with males appearing slightly more frequently. The average age of individuals in the dataset is about 41 years, with a standard deviation of roughly 14 years, indicating a moderate spread in age. Most people fall within the age range of 29 to 53, suggesting a middle-aged demographic dominates the data. Interestingly, while the youngest person is 18, the oldest reaches 65, showing a fairly broad age range. The fact that the median age is close to the mean suggests the age distribution is fairly symmetrical, without extreme skewness.\n",
    "</summary>\n",
    "\n",
    "'''"
   ]
  },
  {
   "cell_type": "code",
   "execution_count": 64,
   "id": "be9a5aff-64f7-4d2a-abfc-68dea4be0b90",
   "metadata": {},
   "outputs": [],
   "source": [
    "user_query = '''Question: Generate me a graph using \"SpendingScore\" and \"MembershipLevel\"\n",
    "'''"
   ]
  },
  {
   "cell_type": "code",
   "execution_count": 65,
   "id": "5a31faaf-b966-49b7-b58f-ad9c8d5d9570",
   "metadata": {},
   "outputs": [],
   "source": [
    "data_string = \"#DATA\" + \"\\n\" + data_string"
   ]
  },
  {
   "cell_type": "code",
   "execution_count": 66,
   "id": "71efbde2-e2e8-45d2-81ce-9b0eece4b49b",
   "metadata": {},
   "outputs": [],
   "source": [
    "prompt = f\"{persona} '\\n' {role} '\\n' {instructions} '\\n' {data_string} '\\n' {user_query}\""
   ]
  },
  {
   "cell_type": "code",
   "execution_count": 16,
   "id": "5534d368-f370-4b90-a077-994e4b2a9329",
   "metadata": {},
   "outputs": [],
   "source": [
    "device = torch.device(\"cuda\")"
   ]
  },
  {
   "cell_type": "code",
   "execution_count": 67,
   "id": "c7b845e1-9172-45be-a5c2-54e526aea09d",
   "metadata": {},
   "outputs": [
    {
     "data": {
      "text/plain": [
       "5969"
      ]
     },
     "execution_count": 67,
     "metadata": {},
     "output_type": "execute_result"
    }
   ],
   "source": [
    "# Tokenize input\n",
    "input_tokens = tokenizer(prompt, return_tensors=\"pt\").to(device)\n",
    "len(input_tokens[\"input_ids\"][0])"
   ]
  },
  {
   "cell_type": "code",
   "execution_count": 18,
   "id": "bf695bec-f2c4-42a7-ac11-7865c3d5e818",
   "metadata": {},
   "outputs": [],
   "source": [
    "# Generate output\n",
    "outputs = model.generate(**input_tokens,\n",
    "                        max_new_tokens=512,\n",
    "                        temperature=0.7,\n",
    "                        #do_sample=True,\n",
    "                        top_k=100,\n",
    "                        top_p=0.95\n",
    "                        #repetition_penalty=1.1,\n",
    ")"
   ]
  },
  {
   "cell_type": "code",
   "execution_count": 19,
   "id": "3f6c20f7-f8d8-4006-87f4-eb34ac08294c",
   "metadata": {},
   "outputs": [
    {
     "data": {
      "text/plain": [
       "tensor([[2610,  525, 8413,  ...,  220,   21,   17]], device='cuda:0')"
      ]
     },
     "execution_count": 19,
     "metadata": {},
     "output_type": "execute_result"
    }
   ],
   "source": [
    "outputs"
   ]
  },
  {
   "cell_type": "code",
   "execution_count": null,
   "id": "2e49c363-9afd-491d-8e22-7743999e747c",
   "metadata": {},
   "outputs": [],
   "source": [
    "generated_text = tokenizer.decode(outputs[0], skip_special_tokens=True)\n",
    "print(generated_text)"
   ]
  },
  {
   "cell_type": "code",
   "execution_count": null,
   "id": "c92049ab-c1a2-4617-8b55-61204bb1ccb9",
   "metadata": {},
   "outputs": [],
   "source": []
  },
  {
   "cell_type": "markdown",
   "id": "f68254fa-ef92-4c07-8a8c-5945769d31c0",
   "metadata": {},
   "source": [
    "# Serverless LLM"
   ]
  },
  {
   "cell_type": "code",
   "execution_count": 22,
   "id": "262caeb5-f325-4329-bf28-28c4869a7e73",
   "metadata": {},
   "outputs": [],
   "source": [
    "from openai import OpenAI"
   ]
  },
  {
   "cell_type": "code",
   "execution_count": 23,
   "id": "be08895f-b16e-478d-8461-7c94e676ac35",
   "metadata": {},
   "outputs": [],
   "source": [
    "client = OpenAI(\n",
    "  base_url = \"https://integrate.api.nvidia.com/v1\",\n",
    "  api_key = #Add API Key here from Nvidia NIM Portal\n",
    ")"
   ]
  },
  {
   "cell_type": "code",
   "execution_count": 72,
   "id": "8190d37f-0e64-46e0-9ec9-7963746cc728",
   "metadata": {},
   "outputs": [],
   "source": [
    "completion = client.chat.completions.create(\n",
    "  model=\"qwen/qwen2.5-coder-32b-instruct\",\n",
    "  messages=[{\"role\":\"user\",\"content\":prompt}],\n",
    "  temperature=0.6,\n",
    "  top_p=0.7,\n",
    "  max_tokens=4096,\n",
    "  stream=True\n",
    ")"
   ]
  },
  {
   "cell_type": "code",
   "execution_count": 73,
   "id": "66cf5c6b-f1bd-450d-99f4-34171c43db24",
   "metadata": {},
   "outputs": [
    {
     "name": "stdout",
     "output_type": "stream",
     "text": [
      "<graphCode>\n",
      "import pandas as pd\n",
      "import numpy as np\n",
      "import matplotlib.pyplot as plt\n",
      "\n",
      "# Separate SpendingScore data by MembershipLevel\n",
      "membership_levels = df['MembershipLevel'].unique()\n",
      "_levels]_scores = [df[df['MembershipLevel'] == level]['SpendingScore'] for level in membership\n",
      "\n",
      "# Prepare data for boxplot\n",
      "data = spending_scores\n",
      "\n",
      "# Plotting\n",
      "plt.figure(figsize=(10, 6))\n",
      "plt.boxplot(data, labels=membership_levels)\n",
      " Score Distribution by Membership Level')\n",
      "plt.xlabel('Membership Level')\n",
      "('Spending Score')\n",
      "plt.grid(True)\n",
      "plt.show()\n",
      "Code>ph\n",
      "\n",
      "<summary>\n",
      " varying membership levels and spending scores. The spending scores are distributed across four membership levels: Bronze, Silver, Gold, and Platinum. The median spending score for Bronze members is around 26, indicating a lower spending tendency. Silver members have a median spending score of approximately 50, showing a moderate spending behavior. Gold members exhibit a higher median spending score of around 75, suggesting they are more inclined to spend. Platinum members have the highest median spending score, around 95, indicating they are the highest spenders in the dataset. The interquartile range (IQR) is also larger for Platinum members, suggesting more variability in their spending habits compared to other membership levels. Overall, the spending scores are positively skewed, with a few outliers observed in the higher spending categories.\n",
      "</summary>"
     ]
    }
   ],
   "source": [
    "for chunk in completion:\n",
    "  if chunk.choices[0].delta.content is not None:\n",
    "    print(chunk.choices[0].delta.content, end=\"\")"
   ]
  },
  {
   "cell_type": "code",
   "execution_count": 62,
   "id": "5e1e449f-dbae-4aab-902b-07a9eae5758c",
   "metadata": {},
   "outputs": [
    {
     "data": {
      "text/plain": [
       "<Figure size 800x600 with 0 Axes>"
      ]
     },
     "metadata": {},
     "output_type": "display_data"
    },
    {
     "data": {
      "image/png": "[encoded data removed]",
      "text/plain": [
       "<Figure size 640x480 with 4 Axes>"
      ]
     },
     "metadata": {},
     "output_type": "display_data"
    }
   ],
   "source": [
    "import pandas as pd\n",
    "import numpy as np\n",
    "import matplotlib.pyplot as plt\n",
    "\n",
    "df = df[[\"SpendingScore\", \"MembershipLevel\"]]\n",
    "plt.figure(figsize=(8, 6))\n",
    "df.plot(column='SpendingScore', by='MembershipLevel')\n",
    "plt.title('Spending Score Distribution by Membership Level')\n",
    "plt.suptitle('')  # Removes the default subtitle\n",
    "plt.xlabel('Membership Level')\n",
    "plt.ylabel('Spending Score')\n",
    "plt.grid(True)\n",
    "plt.show()"
   ]
  },
  {
   "cell_type": "code",
   "execution_count": null,
   "id": "b3d8b09e-b2d1-4262-8b9c-ee2ac56589e1",
   "metadata": {},
   "outputs": [],
   "source": []
  }
 ],
 "metadata": {
  "kernelspec": {
   "display_name": "Python 3 (ipykernel)",
   "language": "python",
   "name": "python3"
  },
  "language_info": {
   "codemirror_mode": {
    "name": "ipython",
    "version": 3
   },
   "file_extension": ".py",
   "mimetype": "text/x-python",
   "name": "python",
   "nbconvert_exporter": "python",
   "pygments_lexer": "ipython3",
   "version": "3.10.16"
  }
 },
 "nbformat": 4,
 "nbformat_minor": 5
}
